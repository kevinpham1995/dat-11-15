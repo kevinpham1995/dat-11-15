{
 "cells": [
  {
   "cell_type": "markdown",
   "metadata": {},
   "source": [
    "### Working With Imbalanced Data and Classifier Evaluation\n",
    "\n",
    "In today's lab, we're going to work through a sample classification problem that will allow us to see how to improve and evaluate a classifier where there's imbalanced data.  \n",
    "\n",
    "The point is to get used to using a confusion matrix, and using metrics like `precision`, `recall` and the `f1_score` in order to think about how well our model is performing across different labels."
   ]
  },
  {
   "cell_type": "markdown",
   "metadata": {},
   "source": [
    "**Step 1:** Load in the `pima` dataset, and do the following:\n",
    "\n",
    " - Create training, validation and test sets\n",
    " - Fit a `GradientBoostingClassifier` with the default configuration on your training set\n",
    " - Get both model accuracy and the `f1_score` on the validation set"
   ]
  },
  {
   "cell_type": "code",
   "execution_count": null,
   "metadata": {},
   "outputs": [],
   "source": [
    "# your code here"
   ]
  },
  {
   "cell_type": "markdown",
   "metadata": {},
   "source": [
    "**Step 2:** Look at both the confusion matrix and classification report on your validation set.  Make sure you can recall what each metric means."
   ]
  },
  {
   "cell_type": "code",
   "execution_count": null,
   "metadata": {},
   "outputs": [],
   "source": [
    "# your code here"
   ]
  },
  {
   "cell_type": "markdown",
   "metadata": {},
   "source": [
    "**Step 3:** Do a parameter search using the following four categories:\n",
    " - `n_estimators`\n",
    " - `max_depth`\n",
    " - `subsample`\n",
    " - `scale_pos_weight`\n",
    " \n",
    " When you are done, refit your model on the training data using the best combination, and look at your new classification report and confusion matrix to see how they changed"
   ]
  },
  {
   "cell_type": "code",
   "execution_count": null,
   "metadata": {},
   "outputs": [],
   "source": [
    "# your code here"
   ]
  },
  {
   "cell_type": "markdown",
   "metadata": {},
   "source": [
    "**Step 4:** Refit your model on all of your training data and get your test score."
   ]
  },
  {
   "cell_type": "code",
   "execution_count": null,
   "metadata": {},
   "outputs": [],
   "source": [
    "# your code here"
   ]
  }
 ],
 "metadata": {
  "kernelspec": {
   "display_name": "Python 3",
   "language": "python",
   "name": "python3"
  },
  "language_info": {
   "codemirror_mode": {
    "name": "ipython",
    "version": 3
   },
   "file_extension": ".py",
   "mimetype": "text/x-python",
   "name": "python",
   "nbconvert_exporter": "python",
   "pygments_lexer": "ipython3",
   "version": "3.8.5"
  }
 },
 "nbformat": 4,
 "nbformat_minor": 4
}
